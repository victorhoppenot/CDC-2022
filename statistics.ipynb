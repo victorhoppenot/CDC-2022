{
 "cells": [
  {
   "cell_type": "code",
   "execution_count": 1,
   "metadata": {},
   "outputs": [],
   "source": [
    "import pandas as pd\n",
    "from transformers import pipeline \n",
    "import numpy as np\n",
    "import json"
   ]
  },
  {
   "cell_type": "code",
   "execution_count": 2,
   "metadata": {},
   "outputs": [],
   "source": [
    "def load_json(path):\n",
    "    data = []\n",
    "    with open(path, \"r\") as f:\n",
    "        for line in f:\n",
    "            data.append(json.loads(line))\n",
    "    return pd.DataFrame.from_records(data)"
   ]
  },
  {
   "cell_type": "code",
   "execution_count": 3,
   "metadata": {},
   "outputs": [
    {
     "ename": "MemoryError",
     "evalue": "",
     "output_type": "error",
     "traceback": [
      "\u001b[1;31m---------------------------------------------------------------------------\u001b[0m",
      "\u001b[1;31mMemoryError\u001b[0m                               Traceback (most recent call last)",
      "\u001b[1;32mc:\\Users\\Hoppenot\\Desktop\\CDC\\statistics.ipynb Cell 3\u001b[0m in \u001b[0;36m<cell line: 1>\u001b[1;34m()\u001b[0m\n\u001b[1;32m----> <a href='vscode-notebook-cell:/c%3A/Users/Hoppenot/Desktop/CDC/statistics.ipynb#W2sZmlsZQ%3D%3D?line=0'>1</a>\u001b[0m dataset \u001b[39m=\u001b[39m load_json(\u001b[39m'\u001b[39;49m\u001b[39m./datasets/climate_id_2.jsonl\u001b[39;49m\u001b[39m'\u001b[39;49m)\n",
      "\u001b[1;32mc:\\Users\\Hoppenot\\Desktop\\CDC\\statistics.ipynb Cell 3\u001b[0m in \u001b[0;36mload_json\u001b[1;34m(path)\u001b[0m\n\u001b[0;32m      <a href='vscode-notebook-cell:/c%3A/Users/Hoppenot/Desktop/CDC/statistics.ipynb#W2sZmlsZQ%3D%3D?line=0'>1</a>\u001b[0m \u001b[39mdef\u001b[39;00m \u001b[39mload_json\u001b[39m(path):\n\u001b[1;32m----> <a href='vscode-notebook-cell:/c%3A/Users/Hoppenot/Desktop/CDC/statistics.ipynb#W2sZmlsZQ%3D%3D?line=1'>2</a>\u001b[0m     \u001b[39mreturn\u001b[39;00m pd\u001b[39m.\u001b[39;49mread_json(path_or_buf\u001b[39m=\u001b[39;49mpath, lines\u001b[39m=\u001b[39;49m\u001b[39mTrue\u001b[39;49;00m)\n",
      "File \u001b[1;32mc:\\Users\\Hoppenot\\anaconda3\\lib\\site-packages\\pandas\\util\\_decorators.py:207\u001b[0m, in \u001b[0;36mdeprecate_kwarg.<locals>._deprecate_kwarg.<locals>.wrapper\u001b[1;34m(*args, **kwargs)\u001b[0m\n\u001b[0;32m    205\u001b[0m     \u001b[39melse\u001b[39;00m:\n\u001b[0;32m    206\u001b[0m         kwargs[new_arg_name] \u001b[39m=\u001b[39m new_arg_value\n\u001b[1;32m--> 207\u001b[0m \u001b[39mreturn\u001b[39;00m func(\u001b[39m*\u001b[39margs, \u001b[39m*\u001b[39m\u001b[39m*\u001b[39mkwargs)\n",
      "File \u001b[1;32mc:\\Users\\Hoppenot\\anaconda3\\lib\\site-packages\\pandas\\util\\_decorators.py:311\u001b[0m, in \u001b[0;36mdeprecate_nonkeyword_arguments.<locals>.decorate.<locals>.wrapper\u001b[1;34m(*args, **kwargs)\u001b[0m\n\u001b[0;32m    305\u001b[0m \u001b[39mif\u001b[39;00m \u001b[39mlen\u001b[39m(args) \u001b[39m>\u001b[39m num_allow_args:\n\u001b[0;32m    306\u001b[0m     warnings\u001b[39m.\u001b[39mwarn(\n\u001b[0;32m    307\u001b[0m         msg\u001b[39m.\u001b[39mformat(arguments\u001b[39m=\u001b[39marguments),\n\u001b[0;32m    308\u001b[0m         \u001b[39mFutureWarning\u001b[39;00m,\n\u001b[0;32m    309\u001b[0m         stacklevel\u001b[39m=\u001b[39mstacklevel,\n\u001b[0;32m    310\u001b[0m     )\n\u001b[1;32m--> 311\u001b[0m \u001b[39mreturn\u001b[39;00m func(\u001b[39m*\u001b[39margs, \u001b[39m*\u001b[39m\u001b[39m*\u001b[39mkwargs)\n",
      "File \u001b[1;32mc:\\Users\\Hoppenot\\anaconda3\\lib\\site-packages\\pandas\\io\\json\\_json.py:588\u001b[0m, in \u001b[0;36mread_json\u001b[1;34m(path_or_buf, orient, typ, dtype, convert_axes, convert_dates, keep_default_dates, numpy, precise_float, date_unit, encoding, encoding_errors, lines, chunksize, compression, nrows, storage_options)\u001b[0m\n\u001b[0;32m    585\u001b[0m \u001b[39mif\u001b[39;00m convert_axes \u001b[39mis\u001b[39;00m \u001b[39mNone\u001b[39;00m \u001b[39mand\u001b[39;00m orient \u001b[39m!=\u001b[39m \u001b[39m\"\u001b[39m\u001b[39mtable\u001b[39m\u001b[39m\"\u001b[39m:\n\u001b[0;32m    586\u001b[0m     convert_axes \u001b[39m=\u001b[39m \u001b[39mTrue\u001b[39;00m\n\u001b[1;32m--> 588\u001b[0m json_reader \u001b[39m=\u001b[39m JsonReader(\n\u001b[0;32m    589\u001b[0m     path_or_buf,\n\u001b[0;32m    590\u001b[0m     orient\u001b[39m=\u001b[39;49morient,\n\u001b[0;32m    591\u001b[0m     typ\u001b[39m=\u001b[39;49mtyp,\n\u001b[0;32m    592\u001b[0m     dtype\u001b[39m=\u001b[39;49mdtype,\n\u001b[0;32m    593\u001b[0m     convert_axes\u001b[39m=\u001b[39;49mconvert_axes,\n\u001b[0;32m    594\u001b[0m     convert_dates\u001b[39m=\u001b[39;49mconvert_dates,\n\u001b[0;32m    595\u001b[0m     keep_default_dates\u001b[39m=\u001b[39;49mkeep_default_dates,\n\u001b[0;32m    596\u001b[0m     numpy\u001b[39m=\u001b[39;49mnumpy,\n\u001b[0;32m    597\u001b[0m     precise_float\u001b[39m=\u001b[39;49mprecise_float,\n\u001b[0;32m    598\u001b[0m     date_unit\u001b[39m=\u001b[39;49mdate_unit,\n\u001b[0;32m    599\u001b[0m     encoding\u001b[39m=\u001b[39;49mencoding,\n\u001b[0;32m    600\u001b[0m     lines\u001b[39m=\u001b[39;49mlines,\n\u001b[0;32m    601\u001b[0m     chunksize\u001b[39m=\u001b[39;49mchunksize,\n\u001b[0;32m    602\u001b[0m     compression\u001b[39m=\u001b[39;49mcompression,\n\u001b[0;32m    603\u001b[0m     nrows\u001b[39m=\u001b[39;49mnrows,\n\u001b[0;32m    604\u001b[0m     storage_options\u001b[39m=\u001b[39;49mstorage_options,\n\u001b[0;32m    605\u001b[0m     encoding_errors\u001b[39m=\u001b[39;49mencoding_errors,\n\u001b[0;32m    606\u001b[0m )\n\u001b[0;32m    608\u001b[0m \u001b[39mif\u001b[39;00m chunksize:\n\u001b[0;32m    609\u001b[0m     \u001b[39mreturn\u001b[39;00m json_reader\n",
      "File \u001b[1;32mc:\\Users\\Hoppenot\\anaconda3\\lib\\site-packages\\pandas\\io\\json\\_json.py:674\u001b[0m, in \u001b[0;36mJsonReader.__init__\u001b[1;34m(self, filepath_or_buffer, orient, typ, dtype, convert_axes, convert_dates, keep_default_dates, numpy, precise_float, date_unit, encoding, lines, chunksize, compression, nrows, storage_options, encoding_errors)\u001b[0m\n\u001b[0;32m    671\u001b[0m         \u001b[39mraise\u001b[39;00m \u001b[39mValueError\u001b[39;00m(\u001b[39m\"\u001b[39m\u001b[39mnrows can only be passed if lines=True\u001b[39m\u001b[39m\"\u001b[39m)\n\u001b[0;32m    673\u001b[0m data \u001b[39m=\u001b[39m \u001b[39mself\u001b[39m\u001b[39m.\u001b[39m_get_data_from_filepath(filepath_or_buffer)\n\u001b[1;32m--> 674\u001b[0m \u001b[39mself\u001b[39m\u001b[39m.\u001b[39mdata \u001b[39m=\u001b[39m \u001b[39mself\u001b[39;49m\u001b[39m.\u001b[39;49m_preprocess_data(data)\n",
      "File \u001b[1;32mc:\\Users\\Hoppenot\\anaconda3\\lib\\site-packages\\pandas\\io\\json\\_json.py:686\u001b[0m, in \u001b[0;36mJsonReader._preprocess_data\u001b[1;34m(self, data)\u001b[0m\n\u001b[0;32m    684\u001b[0m \u001b[39mif\u001b[39;00m \u001b[39mhasattr\u001b[39m(data, \u001b[39m\"\u001b[39m\u001b[39mread\u001b[39m\u001b[39m\"\u001b[39m) \u001b[39mand\u001b[39;00m \u001b[39mnot\u001b[39;00m (\u001b[39mself\u001b[39m\u001b[39m.\u001b[39mchunksize \u001b[39mor\u001b[39;00m \u001b[39mself\u001b[39m\u001b[39m.\u001b[39mnrows):\n\u001b[0;32m    685\u001b[0m     \u001b[39mwith\u001b[39;00m \u001b[39mself\u001b[39m:\n\u001b[1;32m--> 686\u001b[0m         data \u001b[39m=\u001b[39m data\u001b[39m.\u001b[39;49mread()\n\u001b[0;32m    687\u001b[0m \u001b[39mif\u001b[39;00m \u001b[39mnot\u001b[39;00m \u001b[39mhasattr\u001b[39m(data, \u001b[39m\"\u001b[39m\u001b[39mread\u001b[39m\u001b[39m\"\u001b[39m) \u001b[39mand\u001b[39;00m (\u001b[39mself\u001b[39m\u001b[39m.\u001b[39mchunksize \u001b[39mor\u001b[39;00m \u001b[39mself\u001b[39m\u001b[39m.\u001b[39mnrows):\n\u001b[0;32m    688\u001b[0m     data \u001b[39m=\u001b[39m StringIO(data)\n",
      "File \u001b[1;32mc:\\Users\\Hoppenot\\anaconda3\\lib\\codecs.py:322\u001b[0m, in \u001b[0;36mBufferedIncrementalDecoder.decode\u001b[1;34m(self, input, final)\u001b[0m\n\u001b[0;32m    319\u001b[0m \u001b[39mdef\u001b[39;00m \u001b[39mdecode\u001b[39m(\u001b[39mself\u001b[39m, \u001b[39minput\u001b[39m, final\u001b[39m=\u001b[39m\u001b[39mFalse\u001b[39;00m):\n\u001b[0;32m    320\u001b[0m     \u001b[39m# decode input (taking the buffer into account)\u001b[39;00m\n\u001b[0;32m    321\u001b[0m     data \u001b[39m=\u001b[39m \u001b[39mself\u001b[39m\u001b[39m.\u001b[39mbuffer \u001b[39m+\u001b[39m \u001b[39minput\u001b[39m\n\u001b[1;32m--> 322\u001b[0m     (result, consumed) \u001b[39m=\u001b[39m \u001b[39mself\u001b[39;49m\u001b[39m.\u001b[39;49m_buffer_decode(data, \u001b[39mself\u001b[39;49m\u001b[39m.\u001b[39;49merrors, final)\n\u001b[0;32m    323\u001b[0m     \u001b[39m# keep undecoded input until the next call\u001b[39;00m\n\u001b[0;32m    324\u001b[0m     \u001b[39mself\u001b[39m\u001b[39m.\u001b[39mbuffer \u001b[39m=\u001b[39m data[consumed:]\n",
      "\u001b[1;31mMemoryError\u001b[0m: "
     ]
    }
   ],
   "source": [
    "dataset = load_json('./datasets/climate_id_2.jsonl')"
   ]
  },
  {
   "cell_type": "code",
   "execution_count": null,
   "metadata": {},
   "outputs": [
    {
     "name": "stdout",
     "output_type": "stream",
     "text": [
      "184775\n"
     ]
    }
   ],
   "source": [
    "print(len(dataset))"
   ]
  },
  {
   "cell_type": "code",
   "execution_count": null,
   "metadata": {},
   "outputs": [],
   "source": [
    "## Location Names====================================================\n",
    "state_codes = [ 'AK', 'AL', 'AR', 'AZ', 'CA', 'CO', 'CT', 'DC', 'DE', 'FL', 'GA', 'HI', 'IA', 'ID', 'IL', 'IN', 'KS', 'KY', 'LA', 'MA', 'MD', 'ME', 'MI', 'MN', 'MO', 'MS', 'MT', 'NC', 'ND', 'NE', 'NH', 'NJ', 'NM', 'NV', 'NY', 'OH', 'OK', 'OR', 'PA', 'RI', 'SC', 'SD', 'TN', 'TX', 'UT', 'VA', 'VT', 'WA', 'WI', 'WV', 'WY']\n",
    "\n",
    "state_code_to_name = {\n",
    "    'AK': 'Alaska',\n",
    "    'AL': 'Alabama',\n",
    "    'AR': 'Arkansas',\n",
    "    'AZ': 'Arizona',\n",
    "    'CA': 'California',\n",
    "    'CO': 'Colorado',\n",
    "    'CT': 'Connecticut',\n",
    "    'DC': 'District of Columbia',\n",
    "    'D.C.': 'District of Columbia',\n",
    "    'D.C': 'District of Columbia',\n",
    "    'DE': 'Delaware',\n",
    "    'FL': 'Florida',\n",
    "    'GA': 'Georgia',\n",
    "    'HI': 'Hawaii',\n",
    "    'IA': 'Iowa',\n",
    "    'ID': 'Idaho',\n",
    "    'IL': 'Illinois',\n",
    "    'IN': 'Indiana',\n",
    "    'KS': 'Kansas',\n",
    "    'KY': 'Kentucky',\n",
    "    'LA': 'Louisiana',\n",
    "    'MA': 'Massachusetts',\n",
    "    'MD': 'Maryland',\n",
    "    'ME': 'Maine',\n",
    "    'MI': 'Michigan',\n",
    "    'MN': 'Minnesota',\n",
    "    'MO': 'Missouri',\n",
    "    'MS': 'Mississippi',\n",
    "    'MT': 'Montana',\n",
    "    'NC': 'North Carolina',\n",
    "    'ND': 'North Dakota',\n",
    "    'NE': 'Nebraska',\n",
    "    'NH': 'New Hampshire',\n",
    "    'NJ': 'New Jersey',\n",
    "    'NM': 'New Mexico',\n",
    "    'NV': 'Nevada',\n",
    "    'NY': 'New York',\n",
    "    'OH': 'Ohio',\n",
    "    'OK': 'Oklahoma',\n",
    "    'OR': 'Oregon',\n",
    "    'PA': 'Pennsylvania',\n",
    "    'RI': 'Rhode Island',\n",
    "    'SC': 'South Carolina',\n",
    "    'SD': 'South Dakota',\n",
    "    'TN': 'Tennessee',\n",
    "    'TX': 'Texas',\n",
    "    'UT': 'Utah',\n",
    "    'VA': 'Virginia',\n",
    "    'VT': 'Vermont',\n",
    "    'WA': 'Washington',\n",
    "    'WI': 'Wisconsin',\n",
    "    'WV': 'West Virginia',\n",
    "    'WY': 'Wyoming'\n",
    "}\n"
   ]
  },
  {
   "cell_type": "code",
   "execution_count": null,
   "metadata": {},
   "outputs": [
    {
     "name": "stdout",
     "output_type": "stream",
     "text": [
      "United States\n"
     ]
    }
   ],
   "source": [
    "## Location Names====================================================\n",
    "print(dataset.iloc[0]['user']['location'])\n",
    "states = []\n",
    "for index, tweet in dataset.iterrows():\n",
    "    loc = tweet['user']['location']\n",
    "    for code in state_codes:\n",
    "        name = state_code_to_name[code]\n",
    "        if ' {code},' in loc or loc[:3] == '{code},' or loc[-3:] == ' {code}':\n",
    "            states.append(name)\n",
    "            break\n",
    "        elif name in loc:\n",
    "            states.append(name)\n",
    "            break\n",
    "    else:\n",
    "        states.append(None)\n"
   ]
  },
  {
   "cell_type": "code",
   "execution_count": null,
   "metadata": {},
   "outputs": [
    {
     "name": "stdout",
     "output_type": "stream",
     "text": [
      "{None: 164126, 'New York': 2547, 'California': 2550, 'Washington': 2318, 'Virginia': 545, 'Pennsylvania': 426, 'Texas': 1246, 'Maryland': 344, 'Massachusetts': 396, 'Alaska': 98, 'Florida': 1517, 'Tennessee': 239, 'New Jersey': 449, 'Missouri': 209, 'Oklahoma': 201, 'Colorado': 543, 'Utah': 124, 'Arizona': 375, 'Oregon': 534, 'New Mexico': 160, 'Illinois': 341, 'Ohio': 578, 'Mississippi': 78, 'Indiana': 340, 'Louisiana': 132, 'Kentucky': 164, 'Minnesota': 365, 'Delaware': 80, 'Michigan': 585, 'Maine': 172, 'Georgia': 319, 'Nevada': 110, 'Kansas': 256, 'Wisconsin': 300, 'Nebraska': 78, 'South Carolina': 149, 'Idaho': 74, 'Iowa': 161, 'Vermont': 113, 'North Carolina': 434, 'Wyoming': 32, 'Connecticut': 199, 'Montana': 91, 'Rhode Island': 106, 'Arkansas': 103, 'Hawaii': 129, 'District of Columbia': 21, 'North Dakota': 16, 'Alabama': 148, 'South Dakota': 37, 'New Hampshire': 117}\n"
     ]
    }
   ],
   "source": [
    "state_dist = {}\n",
    "\n",
    "for state in states:\n",
    "    if state in state_dist:\n",
    "        state_dist[state] += 1\n",
    "    else:\n",
    "        state_dist[state] = 1\n",
    "\n",
    "dataset['state'] = states\n",
    "print(state_dist)"
   ]
  },
  {
   "cell_type": "code",
   "execution_count": null,
   "metadata": {},
   "outputs": [],
   "source": [
    "state_dataset = dataset[dataset['state'].notnull()]"
   ]
  },
  {
   "cell_type": "code",
   "execution_count": null,
   "metadata": {},
   "outputs": [
    {
     "data": {
      "text/plain": [
       "True"
      ]
     },
     "execution_count": 9,
     "metadata": {},
     "output_type": "execute_result"
    }
   ],
   "source": [
    "import torch\n",
    "torch.cuda.is_available()"
   ]
  },
  {
   "cell_type": "code",
   "execution_count": null,
   "metadata": {},
   "outputs": [
    {
     "data": {
      "application/vnd.jupyter.widget-view+json": {
       "model_id": "70ee44ac8a34406ebd2213936e2bd781",
       "version_major": 2,
       "version_minor": 0
      },
      "text/plain": [
       "Downloading:   0%|          | 0.00/1.25k [00:00<?, ?B/s]"
      ]
     },
     "metadata": {},
     "output_type": "display_data"
    },
    {
     "name": "stdout",
     "output_type": "stream",
     "text": [
      "100 / 20649 :       0.48\n",
      "200 / 20649 :       0.97\n",
      "300 / 20649 :       1.45\n",
      "400 / 20649 :       1.94\n",
      "500 / 20649 :       2.42\n",
      "600 / 20649 :       2.91\n",
      "700 / 20649 :       3.39\n",
      "800 / 20649 :       3.87\n",
      "900 / 20649 :       4.36\n",
      "1000 / 20649 :       4.84\n",
      "1100 / 20649 :       5.33\n",
      "1200 / 20649 :       5.81\n",
      "1300 / 20649 :       6.30\n",
      "1400 / 20649 :       6.78\n",
      "1500 / 20649 :       7.26\n",
      "1600 / 20649 :       7.75\n",
      "1700 / 20649 :       8.23\n",
      "1800 / 20649 :       8.72\n",
      "1900 / 20649 :       9.20\n",
      "2000 / 20649 :       9.69\n",
      "2100 / 20649 :      10.17\n",
      "2200 / 20649 :      10.65\n",
      "2300 / 20649 :      11.14\n",
      "2400 / 20649 :      11.62\n",
      "2500 / 20649 :      12.11\n",
      "2600 / 20649 :      12.59\n",
      "2700 / 20649 :      13.08\n",
      "2800 / 20649 :      13.56\n",
      "2900 / 20649 :      14.04\n",
      "3000 / 20649 :      14.53\n",
      "3100 / 20649 :      15.01\n",
      "3200 / 20649 :      15.50\n",
      "3300 / 20649 :      15.98\n",
      "3400 / 20649 :      16.47\n",
      "3500 / 20649 :      16.95\n",
      "3600 / 20649 :      17.43\n",
      "3700 / 20649 :      17.92\n",
      "3800 / 20649 :      18.40\n",
      "3900 / 20649 :      18.89\n",
      "4000 / 20649 :      19.37\n",
      "4100 / 20649 :      19.86\n",
      "4200 / 20649 :      20.34\n",
      "4300 / 20649 :      20.82\n",
      "4400 / 20649 :      21.31\n",
      "4500 / 20649 :      21.79\n",
      "4600 / 20649 :      22.28\n",
      "4700 / 20649 :      22.76\n",
      "4800 / 20649 :      23.25\n",
      "4900 / 20649 :      23.73\n",
      "5000 / 20649 :      24.21\n",
      "5100 / 20649 :      24.70\n",
      "5200 / 20649 :      25.18\n",
      "5300 / 20649 :      25.67\n",
      "5400 / 20649 :      26.15\n",
      "5500 / 20649 :      26.64\n",
      "5600 / 20649 :      27.12\n",
      "5700 / 20649 :      27.60\n",
      "5800 / 20649 :      28.09\n",
      "5900 / 20649 :      28.57\n",
      "6000 / 20649 :      29.06\n",
      "6100 / 20649 :      29.54\n",
      "6200 / 20649 :      30.03\n",
      "6300 / 20649 :      30.51\n",
      "6400 / 20649 :      30.99\n",
      "6500 / 20649 :      31.48\n",
      "6600 / 20649 :      31.96\n",
      "6700 / 20649 :      32.45\n",
      "6800 / 20649 :      32.93\n",
      "6900 / 20649 :      33.42\n",
      "7000 / 20649 :      33.90\n",
      "7100 / 20649 :      34.38\n",
      "7200 / 20649 :      34.87\n",
      "7300 / 20649 :      35.35\n",
      "7400 / 20649 :      35.84\n",
      "7500 / 20649 :      36.32\n",
      "7600 / 20649 :      36.81\n",
      "7700 / 20649 :      37.29\n",
      "7800 / 20649 :      37.77\n",
      "7900 / 20649 :      38.26\n",
      "8000 / 20649 :      38.74\n",
      "8100 / 20649 :      39.23\n",
      "8200 / 20649 :      39.71\n",
      "8300 / 20649 :      40.20\n",
      "8400 / 20649 :      40.68\n",
      "8500 / 20649 :      41.16\n",
      "8600 / 20649 :      41.65\n",
      "8700 / 20649 :      42.13\n",
      "8800 / 20649 :      42.62\n",
      "8900 / 20649 :      43.10\n",
      "9000 / 20649 :      43.59\n",
      "9100 / 20649 :      44.07\n",
      "9200 / 20649 :      44.55\n",
      "9300 / 20649 :      45.04\n",
      "9400 / 20649 :      45.52\n",
      "9500 / 20649 :      46.01\n",
      "9600 / 20649 :      46.49\n",
      "9700 / 20649 :      46.98\n",
      "9800 / 20649 :      47.46\n",
      "9900 / 20649 :      47.94\n",
      "10000 / 20649 :      48.43\n",
      "10100 / 20649 :      48.91\n",
      "10200 / 20649 :      49.40\n",
      "10300 / 20649 :      49.88\n",
      "10400 / 20649 :      50.37\n",
      "10500 / 20649 :      50.85\n",
      "10600 / 20649 :      51.33\n",
      "10700 / 20649 :      51.82\n",
      "10800 / 20649 :      52.30\n",
      "10900 / 20649 :      52.79\n",
      "11000 / 20649 :      53.27\n",
      "11100 / 20649 :      53.76\n",
      "11200 / 20649 :      54.24\n",
      "11300 / 20649 :      54.72\n",
      "11400 / 20649 :      55.21\n",
      "11500 / 20649 :      55.69\n",
      "11600 / 20649 :      56.18\n",
      "11700 / 20649 :      56.66\n",
      "11800 / 20649 :      57.15\n",
      "11900 / 20649 :      57.63\n",
      "12000 / 20649 :      58.11\n",
      "12100 / 20649 :      58.60\n",
      "12200 / 20649 :      59.08\n",
      "12300 / 20649 :      59.57\n",
      "12400 / 20649 :      60.05\n",
      "12500 / 20649 :      60.54\n",
      "12600 / 20649 :      61.02\n",
      "12700 / 20649 :      61.50\n",
      "12800 / 20649 :      61.99\n",
      "12900 / 20649 :      62.47\n",
      "13000 / 20649 :      62.96\n",
      "13100 / 20649 :      63.44\n",
      "13200 / 20649 :      63.93\n",
      "13300 / 20649 :      64.41\n",
      "13400 / 20649 :      64.89\n",
      "13500 / 20649 :      65.38\n",
      "13600 / 20649 :      65.86\n",
      "13700 / 20649 :      66.35\n",
      "13800 / 20649 :      66.83\n",
      "13900 / 20649 :      67.32\n",
      "14000 / 20649 :      67.80\n",
      "14100 / 20649 :      68.28\n",
      "14200 / 20649 :      68.77\n",
      "14300 / 20649 :      69.25\n",
      "14400 / 20649 :      69.74\n",
      "14500 / 20649 :      70.22\n",
      "14600 / 20649 :      70.71\n",
      "14700 / 20649 :      71.19\n",
      "14800 / 20649 :      71.67\n",
      "14900 / 20649 :      72.16\n",
      "15000 / 20649 :      72.64\n",
      "15100 / 20649 :      73.13\n",
      "15200 / 20649 :      73.61\n",
      "15300 / 20649 :      74.10\n",
      "15400 / 20649 :      74.58\n",
      "15500 / 20649 :      75.06\n",
      "15600 / 20649 :      75.55\n",
      "15700 / 20649 :      76.03\n",
      "15800 / 20649 :      76.52\n",
      "15900 / 20649 :      77.00\n",
      "16000 / 20649 :      77.49\n",
      "16100 / 20649 :      77.97\n",
      "16200 / 20649 :      78.45\n",
      "16300 / 20649 :      78.94\n",
      "16400 / 20649 :      79.42\n",
      "16500 / 20649 :      79.91\n",
      "16600 / 20649 :      80.39\n",
      "16700 / 20649 :      80.88\n",
      "16800 / 20649 :      81.36\n",
      "16900 / 20649 :      81.84\n",
      "17000 / 20649 :      82.33\n",
      "17100 / 20649 :      82.81\n",
      "17200 / 20649 :      83.30\n",
      "17300 / 20649 :      83.78\n",
      "17400 / 20649 :      84.27\n",
      "17500 / 20649 :      84.75\n",
      "17600 / 20649 :      85.23\n",
      "17700 / 20649 :      85.72\n",
      "17800 / 20649 :      86.20\n",
      "17900 / 20649 :      86.69\n",
      "18000 / 20649 :      87.17\n",
      "18100 / 20649 :      87.66\n",
      "18200 / 20649 :      88.14\n",
      "18300 / 20649 :      88.62\n",
      "18400 / 20649 :      89.11\n",
      "18500 / 20649 :      89.59\n",
      "18600 / 20649 :      90.08\n",
      "18700 / 20649 :      90.56\n",
      "18800 / 20649 :      91.05\n",
      "18900 / 20649 :      91.53\n",
      "19000 / 20649 :      92.01\n",
      "19100 / 20649 :      92.50\n",
      "19200 / 20649 :      92.98\n",
      "19300 / 20649 :      93.47\n",
      "19400 / 20649 :      93.95\n",
      "19500 / 20649 :      94.44\n",
      "19600 / 20649 :      94.92\n",
      "19700 / 20649 :      95.40\n",
      "19800 / 20649 :      95.89\n",
      "19900 / 20649 :      96.37\n",
      "20000 / 20649 :      96.86\n",
      "20100 / 20649 :      97.34\n",
      "20200 / 20649 :      97.83\n",
      "20300 / 20649 :      98.31\n",
      "20400 / 20649 :      98.79\n",
      "20500 / 20649 :      99.28\n",
      "20600 / 20649 :      99.76\n"
     ]
    },
    {
     "name": "stderr",
     "output_type": "stream",
     "text": [
      "C:\\Users\\Hoppenot\\AppData\\Local\\Temp\\ipykernel_32332\\1958388902.py:17: SettingWithCopyWarning: \n",
      "A value is trying to be set on a copy of a slice from a DataFrame.\n",
      "Try using .loc[row_indexer,col_indexer] = value instead\n",
      "\n",
      "See the caveats in the documentation: https://pandas.pydata.org/pandas-docs/stable/user_guide/indexing.html#returning-a-view-versus-a-copy\n",
      "  state_dataset['sentiment'] = sentiments\n"
     ]
    }
   ],
   "source": [
    "\n",
    "from transformers import pipeline \n",
    "sentiment_model = pipeline(model=\"XerOpred/twitter-climate-sentiment-model\")\n",
    "\n",
    "sentiments = []\n",
    "n = 0\n",
    "tot = len(state_dataset)\n",
    "for index, tweet in state_dataset.iterrows():\n",
    "    v = sentiment_model(tweet['full_text'])[0]['score']\n",
    "    if(v > 0.98):\n",
    "        sentiments.append(1)\n",
    "    else:\n",
    "        sentiments.append(-1)\n",
    "    n += 1\n",
    "    if(n % 100 == 0):\n",
    "        print(f'{n} / {tot} : {(n/tot)*100:10.2f}')\n",
    "    \n",
    "state_dataset['sentiment'] = sentiments\n"
   ]
  },
  {
   "cell_type": "code",
   "execution_count": null,
   "metadata": {},
   "outputs": [],
   "source": [
    "state_dataset.filter(items=['state','sentiment','created_at']).to_csv('./out.csv', index=False)"
   ]
  }
 ],
 "metadata": {
  "kernelspec": {
   "display_name": "Python 3.9.12 ('base')",
   "language": "python",
   "name": "python3"
  },
  "language_info": {
   "codemirror_mode": {
    "name": "ipython",
    "version": 3
   },
   "file_extension": ".py",
   "mimetype": "text/x-python",
   "name": "python",
   "nbconvert_exporter": "python",
   "pygments_lexer": "ipython3",
   "version": "3.9.12"
  },
  "orig_nbformat": 4,
  "vscode": {
   "interpreter": {
    "hash": "a2b7bc2a948c5289c5d753f7423e04c08b765fb863c039d52055e17d54349c5d"
   }
  }
 },
 "nbformat": 4,
 "nbformat_minor": 2
}
